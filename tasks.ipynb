{
 "cells": [
  {
   "cell_type": "markdown",
   "metadata": {},
   "source": [
    "## Task 1: Create a Simple Class\n"
   ]
  },
  {
   "cell_type": "markdown",
   "metadata": {},
   "source": [
    "\n",
    "Requirements: <br>\n",
    "Create a class named Car. <br>\n",
    "The class should have three attributes: make, model, and year.<br>\n",
    "The class should have a method named display_info that prints the car's details in the format: \"Year Make Model\".\n",
    "\n",
    "car1 = Car(\"Toyota\", \"Corolla\", 2020) <br>\n",
    "car1.display_info() <br>\n",
    "-> Output: 2020 Toyota Corolla"
   ]
  },
  {
   "cell_type": "code",
   "execution_count": 8,
   "metadata": {},
   "outputs": [],
   "source": [
    "class Car:\n",
    "    def __init__(self, make: str, model: str, year: int):\n",
    "        self.make = make\n",
    "        self.model = model\n",
    "        self.year = year\n",
    "\n",
    "    def display_info(self):\n",
    "        print(f\"Output: {self.year}, {self.make}, {self.model}\")"
   ]
  },
  {
   "cell_type": "code",
   "execution_count": 9,
   "metadata": {},
   "outputs": [
    {
     "name": "stdout",
     "output_type": "stream",
     "text": [
      "Output: 2020, Toyota, Corolla\n"
     ]
    }
   ],
   "source": [
    "car1 = Car(\"Toyota\", \"Corolla\", 2020)\n",
    "car1.display_info()"
   ]
  },
  {
   "cell_type": "markdown",
   "metadata": {},
   "source": [
    "## Task 2: Inheritance and Method Overriding\n"
   ]
  },
  {
   "cell_type": "markdown",
   "metadata": {},
   "source": [
    "\n",
    "Requirements: <br>\n",
    "Create a base class named Animal with an attribute name and a method speak. <br>\n",
    "The speak method in the Animal class should just print a generic message like \"Animal makes a sound\". <br>\n",
    "Create two derived classes Dog and Cat that inherit from the Animal class. <br>\n",
    "Override the speak method in both Dog and Cat classes to print \"Dog barks\" and \"Cat meows\" respectively. <br>\n",
    "\n",
    "dog = Dog(\"Buddy\")<br>\n",
    "cat = Cat(\"Whiskers\")\n",
    "\n",
    "dog.speak()  # Output: Dog barks<br>\n",
    "cat.speak()  # Output: Cat meows"
   ]
  },
  {
   "cell_type": "code",
   "execution_count": 16,
   "metadata": {},
   "outputs": [],
   "source": [
    "class Animal:\n",
    "    def __init__(self, name):\n",
    "        self.name = name\n",
    "\n",
    "\n",
    "class Dog(Animal):\n",
    "    def __init__(self, name):\n",
    "        super().__init__(name)\n",
    "\n",
    "    def speak(self):\n",
    "        print(f\"{self.name} barks\")\n",
    "\n",
    "class Cat(Animal):\n",
    "    def __init__(self, name):\n",
    "        super().__init__(name)\n",
    "\n",
    "    def speak(self):\n",
    "        print(f\"{self.name} meows\")\n"
   ]
  },
  {
   "cell_type": "code",
   "execution_count": 22,
   "metadata": {},
   "outputs": [],
   "source": [
    "dog = Dog(\"frooti\")\n",
    "cat = Cat(\"madhu\")\n"
   ]
  },
  {
   "cell_type": "code",
   "execution_count": 23,
   "metadata": {},
   "outputs": [
    {
     "name": "stdout",
     "output_type": "stream",
     "text": [
      "madhu meows\n",
      "frooti barks\n"
     ]
    }
   ],
   "source": [
    "cat.speak()\n",
    "dog.speak()"
   ]
  },
  {
   "cell_type": "markdown",
   "metadata": {},
   "source": [
    "## Task 3: Multi-level Inheritance with Class Methods\n"
   ]
  },
  {
   "cell_type": "markdown",
   "metadata": {},
   "source": [
    "\n",
    "Requirements:<br>\n",
    "Create a base class named Person with attributes name and age, and a method introduce that prints a message like \"My name is [name] and I am [age] years old.\"<br>\n",
    "Create a derived class named Student that inherits from Person. Add an attribute student_id to Student and override the introduce method to include the student ID in the message.<br>\n",
    "Create another derived class named GraduateStudent that inherits from Student. Add an attribute research_topic to GraduateStudent and override the introduce method to include the research topic in the message.<br>\n",
    "Demonstrate the use of these classes by creating instances and calling their introduce methods.<br>\n",
    "\n",
    "person = Person(\"Alice\", 30)<br>\n",
    "student = Student(\"Bob\", 20, \"S12345\")<br>\n",
    "grad_student = GraduateStudent(\"Charlie\", 25, \"G67890\", \"Artificial Intelligence\")<br>\n",
    "\n",
    "person.introduce()  # Output: My name is Alice and I am 30 years old.<br>\n",
    "student.introduce()  # Output: My name is Bob and I am 20 years old. My student ID is S12345.<br>\n",
    "grad_student.introduce()  # Output: My name is Charlie and I am 25 years old. My student ID is G67890. My research topic is Artificial Intelligence."
   ]
  },
  {
   "cell_type": "markdown",
   "metadata": {},
   "source": []
  },
  {
   "cell_type": "code",
   "execution_count": 2,
   "metadata": {},
   "outputs": [],
   "source": [
    "class Person:\n",
    "    def __init__(self, name, age):\n",
    "        self.name = name\n",
    "        self.age = age\n",
    "    \n",
    "    def introduce(self):\n",
    "        print(f\"My name is {self.name} and my age is {self.age}\")\n",
    "\n"
   ]
  },
  {
   "cell_type": "code",
   "execution_count": 3,
   "metadata": {},
   "outputs": [],
   "source": [
    "person = Person(\"arpit\", 25)"
   ]
  },
  {
   "cell_type": "code",
   "execution_count": 5,
   "metadata": {},
   "outputs": [
    {
     "name": "stdout",
     "output_type": "stream",
     "text": [
      "My name is arpit and my age is 25\n"
     ]
    }
   ],
   "source": [
    "person.introduce()"
   ]
  },
  {
   "cell_type": "code",
   "execution_count": 9,
   "metadata": {},
   "outputs": [],
   "source": [
    "\n",
    "class Student(Person):\n",
    "    def __init__(self, name, age, student_id):\n",
    "        self.student_id = student_id\n",
    "        super().__init__(name, age)\n",
    "\n",
    "    def introduce(self):\n",
    "        print(f\"My name is {self.name} and my age is {self.age}. My student ID is {self.student_id}\")"
   ]
  },
  {
   "cell_type": "code",
   "execution_count": 10,
   "metadata": {},
   "outputs": [
    {
     "name": "stdout",
     "output_type": "stream",
     "text": [
      "My name is Arpit and my age is 15. My student ID is 5686538\n"
     ]
    }
   ],
   "source": [
    "student = Student(\"Arpit\", 15, \"5686538\")\n",
    "student.introduce()"
   ]
  },
  {
   "cell_type": "code",
   "execution_count": 12,
   "metadata": {},
   "outputs": [],
   "source": [
    "class GraduateStudent(Student):\n",
    "    def __init__(self, name, age, student_id, research_topic):\n",
    "        self.research_topic = research_topic\n",
    "        super().__init__(name, age, student_id)\n",
    "\n",
    "    def introduce(self):\n",
    "        print(f\"My name is {self.name} and my age is {self.age}. My student ID is {self.student_id}. My research topic is {self.research_topic}\")"
   ]
  },
  {
   "cell_type": "code",
   "execution_count": 14,
   "metadata": {},
   "outputs": [
    {
     "name": "stdout",
     "output_type": "stream",
     "text": [
      "My name is Arpit and my age is 69. My student ID is 1706810069. My research topic is AI\n"
     ]
    }
   ],
   "source": [
    "grad = GraduateStudent(\"Arpit\", 69, \"1706810069\", \"AI\")\n",
    "grad.introduce()"
   ]
  },
  {
   "cell_type": "markdown",
   "metadata": {},
   "source": [
    "## Task 4: Polymorphism and Encapsulation<br>\n"
   ]
  },
  {
   "cell_type": "markdown",
   "metadata": {},
   "source": [
    "\n",
    "Requirements:<br>\n",
    "Create a base class named Shape with a method area that returns 0.<br>\n",
    "Create two derived classes Rectangle and Circle that inherit from the Shape class.<br>\n",
    "The Rectangle class should have private attributes width and height with appropriate getter and setter methods, and its area method should return the area of the rectangle.<br>\n",
    "The Circle class should have a private attribute radius with appropriate getter and setter methods, and its area method should return the area of the circle.<br>\n",
    "Demonstrate polymorphism by creating a list of shapes and iterating over them to print their areas.<br>\n",
    "\n"
   ]
  },
  {
   "cell_type": "code",
   "execution_count": null,
   "metadata": {},
   "outputs": [],
   "source": [
    "# shapes = [\n",
    "#     Rectangle(3, 4),\n",
    "#     Circle(5),\n",
    "# ]\n",
    "\n",
    "# for shape in shapes:\n",
    "#     print(shape.area())\n",
    "#     # Output:\n",
    "#     # 12 (for Rectangle)\n",
    "#     # 78.54 (for Circle, assuming π=3.14)"
   ]
  },
  {
   "cell_type": "code",
   "execution_count": 1,
   "metadata": {},
   "outputs": [
    {
     "name": "stdout",
     "output_type": "stream",
     "text": [
      "12\n",
      "78.53981633974483\n"
     ]
    }
   ],
   "source": [
    "import math\n",
    "\n",
    "\n",
    "class Shape:\n",
    "    def area(self):\n",
    "        return 0\n",
    "\n",
    "\n",
    "class Rectangle(Shape):\n",
    "    def __init__(self, width, height):\n",
    "        self.__width = width\n",
    "        self.__height = height\n",
    "\n",
    "    def get_width(self):\n",
    "        return self.__width\n",
    "\n",
    "    def set_width(self, width):\n",
    "        self.__width = width\n",
    "\n",
    "    def get_height(self):\n",
    "        return self.__height\n",
    "\n",
    "    def set_height(self, height):\n",
    "        self.__height = height\n",
    "\n",
    "    def area(self):\n",
    "        return self.__width * self.__height\n",
    "\n",
    "\n",
    "class Circle(Shape):\n",
    "    def __init__(self, radius):\n",
    "        self.__radius = radius\n",
    "\n",
    "    def get_radius(self):\n",
    "        return self.__radius\n",
    "\n",
    "    def set_radius(self, radius):\n",
    "        self.__radius = radius\n",
    "\n",
    "    def area(self):\n",
    "        return math.pi * self.__radius * self.__radius\n",
    "\n",
    "\n",
    "# Example usage:\n",
    "shapes = [\n",
    "    Rectangle(3, 4),\n",
    "    Circle(5),\n",
    "]\n",
    "\n",
    "for shape in shapes:\n",
    "    print(shape.area())\n",
    "    # Output:\n",
    "    # 12 (for Rectangle)\n",
    "    # 78.54 (for Circle, assuming π=3.14)"
   ]
  },
  {
   "cell_type": "markdown",
   "metadata": {},
   "source": [
    "Explanation<br>\n",
    "Shape Class: The base class with a default area method that returns 0.<br>\n",
    "Rectangle Class: Inherits from Shape. It has private attributes __width and __height with getter and setter methods. The area method returns the area of the rectangle.<br>\n",
    "Circle Class: Inherits from Shape. It has a private attribute __radius with getter and setter methods. The area method returns the area of the circle using the value of π from the math module.<br>\n",
    "Polymorphism Demonstration<br>\n",
    "A list of shapes is created with instances of Rectangle and Circle.<br>\n",
    "By iterating over the list and calling the area method on each shape, polymorphism is demonstrated as the correct area method is called for each shape type."
   ]
  },
  {
   "cell_type": "markdown",
   "metadata": {},
   "source": []
  }
 ],
 "metadata": {
  "kernelspec": {
   "display_name": "Python 3",
   "language": "python",
   "name": "python3"
  },
  "language_info": {
   "codemirror_mode": {
    "name": "ipython",
    "version": 3
   },
   "file_extension": ".py",
   "mimetype": "text/x-python",
   "name": "python",
   "nbconvert_exporter": "python",
   "pygments_lexer": "ipython3",
   "version": "3.8.10"
  }
 },
 "nbformat": 4,
 "nbformat_minor": 2
}
